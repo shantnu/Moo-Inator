{
 "cells": [
  {
   "cell_type": "markdown",
   "metadata": {},
   "source": [
    "# NIGHT OF THE LIVING COWS\n",
    "\n",
    "You are walking down the alley. It’s late at night, and after a night of partying and clubbing, you are going home to your mansion, your racing car, and your beautiful wife/husband.\n",
    "\n",
    "Just kidding.\n",
    "\n",
    "You live alone in a broken cockroach infested home, and you haven’t been partying, you have been crying over your wasted life. You would cry over the shoulder of friends, if you had any. You decide to take a short cut through a slightly shady part of town.\n",
    "\n",
    "“Who will rob me? I hain’t got two pence to my name,” you think to yourself. You a talk like a hillybilly, because you are a hillybilly(if it helps).\n",
    "\n",
    "That’s when you hear and see a thunder flash. Sparks fly all around you, and you have to cover your eyes to protect them. When you open them, you see a naked cow kneeling in front of you. The cows says “Hello World!”\n",
    "\n",
    "Okay, open up your Python console, and type this:"
   ]
  },
  {
   "cell_type": "markdown",
   "metadata": {},
   "source": [
    "*print(\"Hello World!\")*"
   ]
  },
  {
   "cell_type": "code",
   "execution_count": 4,
   "metadata": {
    "collapsed": false
   },
   "outputs": [
    {
     "name": "stdout",
     "output_type": "stream",
     "text": [
      "Hello World\n"
     ]
    }
   ],
   "source": [
    "# This is a code window. Type your code here\n",
    "# I will do the first one for you, but please repeat it.\n",
    "print(\"Hello World\")"
   ]
  },
  {
   "cell_type": "code",
   "execution_count": 5,
   "metadata": {
    "collapsed": true
   },
   "outputs": [],
   "source": [
    "# Now you try. Print Hello World"
   ]
  },
  {
   "cell_type": "markdown",
   "metadata": {},
   "source": [
    "You should see *Hello World* printed on your screen. If you see *Kill them all, and burn down the house* instead, please stop reading immediately, and see your psychiatrist. **Again**. Thank you.\n",
    "\n",
    "The cow sees you, and starts walking towards you. Being the coward you are, you want to run away, but are too scared to. The cow walks right up to you."
   ]
  },
  {
   "cell_type": "code",
   "execution_count": null,
   "metadata": {
    "collapsed": true
   },
   "outputs": [],
   "source": []
  }
 ],
 "metadata": {
  "anaconda-cloud": {},
  "kernelspec": {
   "display_name": "Python [default]",
   "language": "python",
   "name": "python3"
  },
  "language_info": {
   "codemirror_mode": {
    "name": "ipython",
    "version": 3
   },
   "file_extension": ".py",
   "mimetype": "text/x-python",
   "name": "python",
   "nbconvert_exporter": "python",
   "pygments_lexer": "ipython3",
   "version": "3.5.2"
  }
 },
 "nbformat": 4,
 "nbformat_minor": 2
}
