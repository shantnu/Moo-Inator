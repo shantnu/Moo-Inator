{
 "cells": [
  {
   "cell_type": "markdown",
   "metadata": {},
   "source": [
    "**The Moo-Inator from the Future**\n",
    "\n",
    "\"Who are you?\" you ask.\n",
    "\n",
    "\"I am the Moo-Inator. I come from the future.\"\n",
    "\n",
    "\"And what happens in the future?\" you ask.\n",
    "\n",
    "\"Terrible things. Horrible things. The prices of onions will go through the roof. Kids will no longer respect their parents. And oh yeah. Evil zombie bankers will destroy civilization.\"\n",
    "\n",
    "\"Oh my SpongeBob Squarepants!\" you shout (as you are an agnostic). \"Children will no longer respect their parents? Those little rascals. Next time I see those damn kids, I will tell them to get off my lawn.\" You scratch your butt. \"What was that about zombie bankers?\"\n",
    "\n",
    "\"This year, the Crooks R Us Bank will create a Golden Computer. It will be the One. The Golden Laptop will be able to rule all other computers, and bring the world to an end. Also, something about zombies. Anyway, there is a message on the Golden Laptop, written in a language so foul, I won't repeat it here. It says:\n",
    "\n",
    "*One laptop to rule them all,\n",
    "One laptop to bring them together,\n",
    "and with the power of COBOL,\n",
    "bind them.\n",
    "One Laptop to Rule them All.*\n"
   ]
  },
  {
   "cell_type": "markdown",
   "metadata": {},
   "source": [
    "Comments in Python\n",
    "\n",
    "The simplest way to comment code is to use a #"
   ]
  },
  {
   "cell_type": "code",
   "execution_count": 2,
   "metadata": {
    "collapsed": true
   },
   "outputs": [],
   "source": [
    "# This is a comment\n",
    " \n",
    "# It will be ignored by Python"
   ]
  },
  {
   "cell_type": "markdown",
   "metadata": {},
   "source": [
    "Python also allows multi line comments. This is done by using 3 single quotes \n",
    "\n",
    "'''Put long comment in here '''"
   ]
  },
  {
   "cell_type": "code",
   "execution_count": 3,
   "metadata": {
    "collapsed": false
   },
   "outputs": [
    {
     "name": "stdout",
     "output_type": "stream",
     "text": [
      "\n",
      "One laptop to rule them all,\n",
      "One laptop to bring them together,\n",
      "and with the power of COBOL,\n",
      "bind them.\n",
      "One Laptop to Rule them All.\n",
      "\n"
     ]
    }
   ],
   "source": [
    "long_comment = '''\n",
    "One laptop to rule them all,\n",
    "One laptop to bring them together,\n",
    "and with the power of COBOL,\n",
    "bind them.\n",
    "One Laptop to Rule them All.\n",
    "'''\n",
    "\n",
    "\n",
    "print(long_comment)"
   ]
  },
  {
   "cell_type": "markdown",
   "metadata": {},
   "source": [
    "“Okay,” you say. “Thanks for the info dump. But why are you telling me all this?”\n",
    "\n",
    "“That’s simple. Because you are a wizard, Harry. And you have the power to…”\n",
    "\n",
    "“Wait, wait. My name isn’t Harry. It’s Dr Underpants.”\n",
    "\n",
    "“What? Let me talk to my agent.”\n",
    "\n",
    "Moo-Inator took out his phone and starts talking. After a few minutes, he returns.\n",
    "\n",
    "“It seems I am in the wrong story. But my agent tells me this is the only story that will pay me, so I am stuck here. Underpants, I have a shocking secret for you.”\n",
    "\n",
    "“What? I left my cooker on at home, didn’t I?”\n",
    "\n",
    "Moo-inator gives you a weird look. “Ummm, no. The secret is: Underpants, you a geek.”\n",
    "\n",
    "“Wait, what? No, that can’t be.”\n",
    "\n",
    "“Yes, it is. Not only that, you are the Chosen One Geek. You must defeat the Evil Lord, He Who Can Be Named, But Whose Name We Have Forgotten.”\n",
    "\n",
    "“What’s his name?” you ask.\n",
    "\n",
    "“Don’t know. I’ve forgotten. It was Shantnu or something.”\n",
    "\n",
    "“So how can I defeat him?”\n",
    "\n",
    "“Using the power of Python, of course.”"
   ]
  },
  {
   "cell_type": "markdown",
   "metadata": {},
   "source": [
    "*Cue Dramatic music*\n",
    "\n",
    "*Dum Dum Dummmmmmmmmm*"
   ]
  },
  {
   "cell_type": "markdown",
   "metadata": {},
   "source": [
    "Time to practice some Python. Python can also be used as a quick calculator"
   ]
  },
  {
   "cell_type": "code",
   "execution_count": 4,
   "metadata": {
    "collapsed": false
   },
   "outputs": [
    {
     "data": {
      "text/plain": [
       "4"
      ]
     },
     "execution_count": 4,
     "metadata": {},
     "output_type": "execute_result"
    }
   ],
   "source": [
    "2 + 2"
   ]
  },
  {
   "cell_type": "code",
   "execution_count": 5,
   "metadata": {
    "collapsed": false
   },
   "outputs": [
    {
     "data": {
      "text/plain": [
       "40"
      ]
     },
     "execution_count": 5,
     "metadata": {},
     "output_type": "execute_result"
    }
   ],
   "source": [
    "8 * (3 +2)"
   ]
  },
  {
   "cell_type": "code",
   "execution_count": 6,
   "metadata": {
    "collapsed": false
   },
   "outputs": [
    {
     "data": {
      "text/plain": [
       "8"
      ]
     },
     "execution_count": 6,
     "metadata": {},
     "output_type": "execute_result"
    }
   ],
   "source": [
    "# This shows the power of function\n",
    "\n",
    "pow (2,3) # 2 raised to power of 3"
   ]
  },
  {
   "cell_type": "code",
   "execution_count": 8,
   "metadata": {
    "collapsed": false
   },
   "outputs": [
    {
     "name": "stdout",
     "output_type": "stream",
     "text": [
      "square root of 2 is  1.4142135623730951\n",
      "sine of 1.5 is :  0.9974949866040544\n"
     ]
    }
   ],
   "source": [
    "# More complicated stuff\n",
    "\n",
    "from math import *\n",
    "\n",
    "print(\"square root of 2 is \", sqrt(2)) \n",
    "\n",
    "print(\"sine of 1.5 is : \",sin(1.5))"
   ]
  },
  {
   "cell_type": "code",
   "execution_count": 11,
   "metadata": {
    "collapsed": false
   },
   "outputs": [
    {
     "data": {
      "text/plain": [
       "array([ -3.44509285e-16 +1.22464680e-16j,\n",
       "         8.00000000e+00 -5.68502218e-15j,\n",
       "         3.44509285e-16 +1.22464680e-16j,\n",
       "         1.44328993e-15 +1.77635684e-15j,\n",
       "         9.95799250e-17 +1.22464680e-16j,\n",
       "         0.00000000e+00 +1.64244978e-15j,\n",
       "        -9.95799250e-17 +1.22464680e-16j,  -1.44328993e-15 +1.77635684e-15j])"
      ]
     },
     "execution_count": 11,
     "metadata": {},
     "output_type": "execute_result"
    }
   ],
   "source": [
    "# And you can also do signal processing, if you have no life \n",
    "# (which let's accept it, if you are reading this instead of partying, you probably don't)\n",
    "\n",
    "# Here is the Fast Fourier Transform which everyone loves! (I'm told)\n",
    "\n",
    "import numpy\n",
    "numpy.fft.fft(np.exp(2j * np.pi * np.arange(8) / 8))"
   ]
  },
  {
   "cell_type": "markdown",
   "metadata": {},
   "source": [
    "“But I don’t know Python,” you say.\n",
    "\n",
    "“That’s fine. Since you are the Chosen One, you can learn any skill and master it faster than people who have been it doing it for years. Tell me, Underpants. Do you have a cloud shaped scar on your posterior?”\n",
    "\n",
    "\"Posterior?\"\n",
    "\n",
    "\"It means your ass.\"\n",
    "\n",
    "“Yes,” you say. “I was drunk, and fell.”\n",
    "\n",
    "“No!” Cow-Inators vehemence shocks you. “That scar was given to you by the dark lord. He also killed you parents, and you must avenge them!”\n",
    "\n",
    "“My parents are still alive. They run a bakery in Aberdeen.”\n",
    "\n",
    "“He killed your parents, and you must avenge them!”\n",
    "\n",
    "You decide not to argue with him, as its clear the cow is crazy.\n",
    "\n",
    "The Cow-Inator puts on his cool sun glasses. “Anyway, you need to come with me, if you want to live. Also, I have a buy one get one free voucher for Cheap Burgers, and we can really go wild. I’ll even buy us Freedom Fries.”"
   ]
  },
  {
   "cell_type": "code",
   "execution_count": null,
   "metadata": {
    "collapsed": true
   },
   "outputs": [],
   "source": []
  }
 ],
 "metadata": {
  "anaconda-cloud": {},
  "kernelspec": {
   "display_name": "Python [default]",
   "language": "python",
   "name": "python3"
  },
  "language_info": {
   "codemirror_mode": {
    "name": "ipython",
    "version": 3
   },
   "file_extension": ".py",
   "mimetype": "text/x-python",
   "name": "python",
   "nbconvert_exporter": "python",
   "pygments_lexer": "ipython3",
   "version": "3.5.2"
  }
 },
 "nbformat": 4,
 "nbformat_minor": 2
}
