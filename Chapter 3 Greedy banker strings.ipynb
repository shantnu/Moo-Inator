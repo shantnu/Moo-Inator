{
 "cells": [
  {
   "cell_type": "markdown",
   "metadata": {},
   "source": [
    "**Greedy Pigs use strings**\n",
    "\n",
    "After you’ve had some satisfying gourmet burgers, you ask the Moo-Inator how you can save the future.\n",
    "\n",
    "“We need to find all the greedy bankers in the country. Do you know them?”\n",
    "\n",
    "You look at the cow like its gone crazy. “You jokin’ right?”\n",
    "\n",
    "But the cow is serious. “Surely there can be no more than a dozen greedy bankers in the country? Banking is an honest profession in your time, right?”\n",
    "\n",
    "You shake your head and wonder what century the cow is from. “There are ten thousand greedy bankers in this city alone.”\n",
    "\n",
    "“Tell me the names of a few of them.”\n",
    "\n",
    "Right folks. Coding time. You need to take five names from the user. Because a talking cow from the future told you. Seriously, when did you last visit your psychiatrist?\n",
    "\n",
    "So, let me show you how not to do it:"
   ]
  },
  {
   "cell_type": "code",
   "execution_count": 3,
   "metadata": {
    "collapsed": false
   },
   "outputs": [
    {
     "name": "stdout",
     "output_type": "stream",
     "text": [
      "Please enter name 1 Greedy Pig\n",
      "Please enter name 2 Piggy 2\n"
     ]
    },
    {
     "data": {
      "text/plain": [
       "'Piggy 2'"
      ]
     },
     "execution_count": 3,
     "metadata": {},
     "output_type": "execute_result"
    }
   ],
   "source": [
    "input(\"Please enter name 1 \")\n",
    "input(\"Please enter name 2 \")\n"
   ]
  },
  {
   "cell_type": "markdown",
   "metadata": {},
   "source": [
    "Constantly asking the user to enter names is a bit tiring, isn't it?\n",
    "\n",
    "Try this:"
   ]
  },
  {
   "cell_type": "code",
   "execution_count": 4,
   "metadata": {
    "collapsed": true
   },
   "outputs": [],
   "source": [
    "# We create an empty list to store our names in\n",
    "nameList = []"
   ]
  },
  {
   "cell_type": "code",
   "execution_count": 5,
   "metadata": {
    "collapsed": false
   },
   "outputs": [
    {
     "name": "stdout",
     "output_type": "stream",
     "text": [
      "Please Enter name: dude 1\n",
      "Please Enter name: Dude 2\n",
      "Please Enter name: Chick 1\n",
      "Please Enter name: Chick 2\n",
      "Please Enter name: Trump\n"
     ]
    }
   ],
   "source": [
    "for i in range(5):\n",
    "    name = input(\"Please Enter name: \")\n",
    "    nameList.append(name)"
   ]
  },
  {
   "cell_type": "markdown",
   "metadata": {},
   "source": [
    "To print your names:"
   ]
  },
  {
   "cell_type": "code",
   "execution_count": 6,
   "metadata": {
    "collapsed": false
   },
   "outputs": [
    {
     "name": "stdout",
     "output_type": "stream",
     "text": [
      "['dude 1', 'Dude 2', 'Chick 1', 'Chick 2', 'Trump']\n"
     ]
    }
   ],
   "source": [
    "print(nameList)"
   ]
  },
  {
   "cell_type": "code",
   "execution_count": 7,
   "metadata": {
    "collapsed": false
   },
   "outputs": [
    {
     "name": "stdout",
     "output_type": "stream",
     "text": [
      "dude 1\n",
      "Dude 2\n",
      "Chick 1\n",
      "Chick 2\n",
      "Trump\n"
     ]
    }
   ],
   "source": [
    "# You can also do:\n",
    "\n",
    "for name in nameList:\n",
    "    print(name)"
   ]
  },
  {
   "cell_type": "markdown",
   "metadata": {},
   "source": [
    "This way you can print each name separately (or do any other processing with it"
   ]
  },
  {
   "cell_type": "code",
   "execution_count": null,
   "metadata": {
    "collapsed": true
   },
   "outputs": [],
   "source": []
  }
 ],
 "metadata": {
  "anaconda-cloud": {},
  "kernelspec": {
   "display_name": "Python [default]",
   "language": "python",
   "name": "python3"
  },
  "language_info": {
   "codemirror_mode": {
    "name": "ipython",
    "version": 3
   },
   "file_extension": ".py",
   "mimetype": "text/x-python",
   "name": "python",
   "nbconvert_exporter": "python",
   "pygments_lexer": "ipython3",
   "version": "3.5.2"
  }
 },
 "nbformat": 4,
 "nbformat_minor": 2
}
